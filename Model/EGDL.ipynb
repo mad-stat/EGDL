{
  "nbformat": 4,
  "nbformat_minor": 0,
  "metadata": {
    "colab": {
      "provenance": [],
      "toc_visible": true
    },
    "kernelspec": {
      "name": "python3",
      "display_name": "Python 3"
    },
    "language_info": {
      "name": "python"
    }
  },
  "cells": [
    {
      "cell_type": "code",
      "execution_count": 33,
      "metadata": {
        "colab": {
          "base_uri": "https://localhost:8080/"
        },
        "id": "fdkAXKtDn5lL",
        "outputId": "d2f7c90f-2920-41cd-bf77-90e3a20c88d3"
      },
      "outputs": [
        {
          "output_type": "stream",
          "name": "stdout",
          "text": [
            "Running on PyMC v5.20.1\n"
          ]
        }
      ],
      "source": [
        "import arviz as az\n",
        "import matplotlib.pyplot as plt\n",
        "import numpy as np\n",
        "import pandas as pd\n",
        "import pymc as pm\n",
        "import pytensor\n",
        "import pytensor.tensor as pt\n",
        "import networkx as nx\n",
        "from numba import njit\n",
        "from pymc.ode import DifferentialEquation\n",
        "from pytensor.compile.ops import as_op\n",
        "from scipy.integrate import odeint\n",
        "from scipy.optimize import least_squares\n",
        "from google.colab import drive\n",
        "print(f\"Running on PyMC v{pm.__version__}\")\n",
        "import os"
      ]
    },
    {
      "cell_type": "code",
      "source": [
        "# Read epidemic incidence data\n",
        "Data = pd.read_csv('Epidemic incidence data path')\n",
        "Data = Data.to_numpy()"
      ],
      "metadata": {
        "id": "k51tIZR_Y_RQ"
      },
      "execution_count": null,
      "outputs": []
    },
    {
      "cell_type": "code",
      "source": [
        "# Read Laplacian Matrix data\n",
        "df49 = pd.read_excel('Path to laplacian matrix')\n",
        "names = df49.iloc[1:-1,0]\n",
        "df47 = df49.iloc[1:-1,1:-1].fillna(0)\n",
        "L = -df47.to_numpy()"
      ],
      "metadata": {
        "id": "9fVNflN5TqIs"
      },
      "execution_count": null,
      "outputs": []
    },
    {
      "cell_type": "code",
      "source": [
        "# Read population information\n",
        "df_ll = pd.read_csv('Path to location-wise population information')\n",
        "N = 0.001*df_ll.to_numpy() #N = 1000.0;\n",
        "N = np.round(N)"
      ],
      "metadata": {
        "id": "VZ4oElOwDNTa"
      },
      "execution_count": null,
      "outputs": []
    },
    {
      "cell_type": "markdown",
      "source": [
        "# Networked SIR model"
      ],
      "metadata": {
        "id": "vElM9N6MWh9e"
      }
    },
    {
      "cell_type": "code",
      "source": [
        "# Visualize Laplacian matrix\n",
        "plt.figure(figsize=(6,6))\n",
        "plt.spy(L, markersize=5);\n",
        "plt.show()"
      ],
      "metadata": {
        "colab": {
          "base_uri": "https://localhost:8080/",
          "height": 527
        },
        "outputId": "b6c8cdbb-9e0a-4d99-a634-d823ec6894d6",
        "id": "UdDtiu6QXCKC"
      },
      "execution_count": null,
      "outputs": [
        {
          "output_type": "display_data",
          "data": {
            "text/plain": [
              "<Figure size 600x600 with 1 Axes>"
            ],
            "image/png": "[encoded data removed]"
          },
          "metadata": {}
        }
      ]
    },
    {
      "cell_type": "code",
      "execution_count": null,
      "metadata": {
        "id": "Jh1XXo0ewWMe"
      },
      "outputs": [],
      "source": [
        "n = 47 # specify the number of stations\n",
        "dy = np.zeros((2*n))"
      ]
    },
    {
      "cell_type": "code",
      "source": [
        "@njit\n",
        "def matvec_mult(L, S):\n",
        "    n, m = L.shape  # L is n x m\n",
        "    result = np.empty(n)\n",
        "    for i in range(n):\n",
        "        sum = 0.0\n",
        "        for j in range(m):\n",
        "            sum += L[i, j] * S[j]\n",
        "        result[i] = sum\n",
        "    return result"
      ],
      "metadata": {
        "id": "tXovQTPxo8Ff"
      },
      "execution_count": null,
      "outputs": []
    },
    {
      "cell_type": "code",
      "execution_count": null,
      "metadata": {
        "id": "mfd7ZY9-w2Xb"
      },
      "outputs": [],
      "source": [
        "# define the right hand side of the ODE equations in the Scipy odeint signature\n",
        "@njit\n",
        "def rhs(X, t, theta):\n",
        "    # unpack parameters\n",
        "    S = X[0:n]\n",
        "    I = X[n:2*n]\n",
        "    # N = 1000.0;\n",
        "    alpha, beta, gamma, mu, eps = theta\n",
        "    # equations\n",
        "    dy = np.empty(2*n)\n",
        "    #LS = np.dot(L,S);\n",
        "    #LI = np.dot(L,I);\n",
        "    #S = S.reshape(-1,1); I = I.reshape(-1,1);\n",
        "    dy[0:n] = mu*N - (beta*S*I)/(1+alpha*I) - mu*S - eps*matvec_mult(L,S)\n",
        "    dy[n:2*n] = (beta*S*I)/(1+alpha*I) - (gamma+mu)*I - eps*matvec_mult(L,I)\n",
        "    return dy"
      ]
    },
    {
      "cell_type": "code",
      "execution_count": null,
      "metadata": {
        "id": "unvHuf0R3L7j"
      },
      "outputs": [],
      "source": [
        "# call Scipy's odeint function\n",
        "# source_node = 13\n",
        "# S0 = N*np.ones(n)\n",
        "I0 = Data[0,:]#np.zeros(n)\n",
        "#I0[source_node - 1] = 10.0;\n",
        "S0 = N - I0 # assuminig initially recovery is zero\n",
        "#S_I = odeint(func=rhs, y0=[S0, I0], t=time, args=(theta,))\n",
        "init =np.concatenate([S0, I0])\n",
        "#init\n",
        "init"
      ]
    },
    {
      "cell_type": "code",
      "execution_count": null,
      "metadata": {
        "id": "eSRzQdkx4pL7"
      },
      "outputs": [],
      "source": [
        "time = np.linspace(0.0,214.0,215)\n",
        "theta = np.array([0.5, 0.08, 0.26, 0.005, 0.05])\n",
        "S_I = odeint(func=rhs, y0=init, t=time, args=(theta,));"
      ]
    },
    {
      "cell_type": "code",
      "execution_count": null,
      "metadata": {
        "id": "GdhiEPOk6_nS"
      },
      "outputs": [],
      "source": [
        "S_real = S_I[:, 0:n]; I_real = S_I[:,n:2*n]\n",
        "I_real.shape"
      ]
    },
    {
      "cell_type": "code",
      "source": [
        "%matplotlib inline\n",
        "plt.plot(time, I_real);"
      ],
      "metadata": {
        "id": "fQ99NIKhIVoX"
      },
      "execution_count": null,
      "outputs": []
    },
    {
      "cell_type": "code",
      "source": [
        "# function that calculates residuals based on a given theta\n",
        "def ode_model_resid(theta):\n",
        "    dd = odeint(func=rhs, y0=init, t=time, args=(theta,))\n",
        "    residuals = Data - dd[:,n:2*n]\n",
        "    return residuals.flatten()"
      ],
      "metadata": {
        "id": "Tr9_ur9KQwN7"
      },
      "execution_count": null,
      "outputs": []
    },
    {
      "cell_type": "code",
      "source": [
        "lower_bounds = 5*[0] #make sure all parameters are positive\n",
        "upper_bounds = [1.0, np.inf, np.inf, np.inf, np.inf]\n",
        "# calculate least squares using the Scipy solver\n",
        "results = least_squares(ode_model_resid, x0=theta, bounds=(lower_bounds, upper_bounds));"
      ],
      "metadata": {
        "id": "ZZCetn2xRS3z"
      },
      "execution_count": null,
      "outputs": []
    },
    {
      "cell_type": "code",
      "source": [
        "results.x"
      ],
      "metadata": {
        "id": "67Pz-Ay2VJLs"
      },
      "execution_count": null,
      "outputs": []
    },
    {
      "cell_type": "code",
      "source": [
        "# put the results in a dataframe for presentation and convenience\n",
        "df = pd.DataFrame()\n",
        "parameter_names = [\"alpha\", \"beta\", \"gamma\", \"mu\", \"eps\"]\n",
        "df[\"Parameter\"] = parameter_names\n",
        "df[\"Least Squares Solution\"] = results.x\n",
        "df.round(10)"
      ],
      "metadata": {
        "id": "kX-RHlLGV4Dz"
      },
      "execution_count": null,
      "outputs": []
    },
    {
      "cell_type": "code",
      "source": [
        "theta = results.x;\n",
        "ls_SI = odeint(func=rhs, y0=init, t=time, args=(theta,))\n",
        "ls_I = ls_SI[:,n:2*n]\n",
        "plt.figure(figsize=(11,4))\n",
        "plt.scatter(time, I_real[:,1])\n",
        "plt.plot(time, ls_I[:,1])"
      ],
      "metadata": {
        "id": "cjSeLFuGWKir"
      },
      "execution_count": null,
      "outputs": []
    },
    {
      "cell_type": "code",
      "source": [
        "# decorator with input and output types a Pytensor double float tensors\n",
        "@as_op(itypes=[pt.dvector], otypes=[pt.dmatrix])\n",
        "def pytensor_forward_model_matrix(theta):\n",
        "    return odeint(func=rhs, y0=init, t=time, args=(theta,))[:,n:2*n]"
      ],
      "metadata": {
        "id": "36qUfs9SXJWc"
      },
      "execution_count": null,
      "outputs": []
    },
    {
      "cell_type": "code",
      "source": [
        "theta = results.x  # least squares solution used to inform the priors\n",
        "with pm.Model() as model:\n",
        "    # Priors\n",
        "    alpha = pm.TruncatedNormal(\"alpha\", mu=theta[0], sigma=0.1, lower=0, initval=theta[0])\n",
        "    beta = pm.TruncatedNormal(\"beta\", mu=theta[1], sigma=0.01, lower=0, initval=theta[1])\n",
        "    gamma = pm.TruncatedNormal(\"gamma\", mu=theta[2], sigma=0.1, lower=0, initval=theta[2])\n",
        "    mu = pm.TruncatedNormal(\"mu\", mu=theta[3], sigma=0.01, lower=0, initval=theta[3])\n",
        "    eps = pm.TruncatedNormal(\"eps\", mu=theta[4], sigma=0.3, lower=0, initval=theta[4])\n",
        "    sigma = pm.HalfNormal(\"sigma\", 10)\n",
        "\n",
        "    # Ode solution function\n",
        "    ode_solution = pytensor_forward_model_matrix(\n",
        "        pm.math.stack([alpha, beta, gamma, mu, eps])\n",
        "    )\n",
        "\n",
        "    # Likelihood\n",
        "    pm.Normal(\"Y_obs\", mu=ode_solution, sigma=sigma, observed=Data)"
      ],
      "metadata": {
        "id": "ll-l-fh0YkWP"
      },
      "execution_count": null,
      "outputs": []
    },
    {
      "cell_type": "code",
      "source": [
        "pm.model_to_graphviz(model=model)"
      ],
      "metadata": {
        "id": "5YhBEDhjaJSW"
      },
      "execution_count": null,
      "outputs": []
    },
    {
      "cell_type": "code",
      "source": [
        "# Variable list to give to the sample step parameter\n",
        "vars_list = list(model.values_to_rvs.keys())[:-1]\n",
        "vars_list"
      ],
      "metadata": {
        "id": "x-Jz0MAwaewX"
      },
      "execution_count": null,
      "outputs": []
    },
    {
      "cell_type": "code",
      "source": [
        "# Specify the sampler\n",
        "sampler = \"NUTS Sampler\"\n",
        "tune = draws = 3000\n",
        "\n",
        "# Inference!\n",
        "with model:\n",
        "    trace_nuts = pm.sample(tune=tune, draws=draws, chains=2,target_accept=0.9)#pm.sample(step=[pm.NUTS(vars_list)], tune=tune, draws=draws)\n",
        "trace = trace_nuts\n",
        "#az.summary(trace)"
      ],
      "metadata": {
        "id": "b1wEHvjAln86"
      },
      "execution_count": null,
      "outputs": []
    },
    {
      "cell_type": "code",
      "source": [
        "az.summary(trace, round_to=10)"
      ],
      "metadata": {
        "colab": {
          "base_uri": "https://localhost:8080/",
          "height": 237
        },
        "id": "9FWad5BKLB-V",
        "outputId": "2b03c531-a858-4ee8-ef5d-0904267ff13a"
      },
      "execution_count": null,
      "outputs": [
        {
          "output_type": "execute_result",
          "data": {
            "text/plain": [
              "            mean        sd        hdi_3%    hdi_97%     mcse_mean  \\\n",
              "alpha   0.041429  0.001125  3.938303e-02   0.043586  1.451983e-04   \n",
              "beta    0.000159  0.000005  1.501854e-04   0.000168  8.453000e-07   \n",
              "eps     0.000003  0.000003  2.100000e-09   0.000007  3.930000e-08   \n",
              "gamma   0.107220  0.001432  1.045015e-01   0.110043  1.212429e-04   \n",
              "mu      0.000050  0.000050  6.500000e-09   0.000141  2.040100e-06   \n",
              "sigma  23.328697  0.163170  2.303145e+01  23.639320  3.797597e-03   \n",
              "\n",
              "            mcse_sd     ess_bulk     ess_tail     r_hat  \n",
              "alpha  1.031736e-04    60.439772   153.809011  1.038738  \n",
              "beta   6.056000e-07    30.949181   115.336527  1.058329  \n",
              "eps    2.780000e-08  3931.842183  3370.243331  1.000759  \n",
              "gamma  8.591160e-05   139.512689   230.060226  1.026978  \n",
              "mu     1.443300e-06   725.222374  1131.399279  1.003835  \n",
              "sigma  2.685731e-03  1848.231499  3504.042367  1.000780  "
            ],
            "text/html": [
              "\n",
              "  <div id=\"df-b6258190-81d1-4109-9b83-98bafa57e321\" class=\"colab-df-container\">\n",
              "    <div>\n",
              "<style scoped>\n",
              "    .dataframe tbody tr th:only-of-type {\n",
              "        vertical-align: middle;\n",
              "    }\n",
              "\n",
              "    .dataframe tbody tr th {\n",
              "        vertical-align: top;\n",
              "    }\n",
              "\n",
              "    .dataframe thead th {\n",
              "        text-align: right;\n",
              "    }\n",
              "</style>\n",
              "<table border=\"1\" class=\"dataframe\">\n",
              "  <thead>\n",
              "    <tr style=\"text-align: right;\">\n",
              "      <th></th>\n",
              "      <th>mean</th>\n",
              "      <th>sd</th>\n",
              "      <th>hdi_3%</th>\n",
              "      <th>hdi_97%</th>\n",
              "      <th>mcse_mean</th>\n",
              "      <th>mcse_sd</th>\n",
              "      <th>ess_bulk</th>\n",
              "      <th>ess_tail</th>\n",
              "      <th>r_hat</th>\n",
              "    </tr>\n",
              "  </thead>\n",
              "  <tbody>\n",
              "    <tr>\n",
              "      <th>alpha</th>\n",
              "      <td>0.041429</td>\n",
              "      <td>0.001125</td>\n",
              "      <td>3.938303e-02</td>\n",
              "      <td>0.043586</td>\n",
              "      <td>1.451983e-04</td>\n",
              "      <td>1.031736e-04</td>\n",
              "      <td>60.439772</td>\n",
              "      <td>153.809011</td>\n",
              "      <td>1.038738</td>\n",
              "    </tr>\n",
              "    <tr>\n",
              "      <th>beta</th>\n",
              "      <td>0.000159</td>\n",
              "      <td>0.000005</td>\n",
              "      <td>1.501854e-04</td>\n",
              "      <td>0.000168</td>\n",
              "      <td>8.453000e-07</td>\n",
              "      <td>6.056000e-07</td>\n",
              "      <td>30.949181</td>\n",
              "      <td>115.336527</td>\n",
              "      <td>1.058329</td>\n",
              "    </tr>\n",
              "    <tr>\n",
              "      <th>eps</th>\n",
              "      <td>0.000003</td>\n",
              "      <td>0.000003</td>\n",
              "      <td>2.100000e-09</td>\n",
              "      <td>0.000007</td>\n",
              "      <td>3.930000e-08</td>\n",
              "      <td>2.780000e-08</td>\n",
              "      <td>3931.842183</td>\n",
              "      <td>3370.243331</td>\n",
              "      <td>1.000759</td>\n",
              "    </tr>\n",
              "    <tr>\n",
              "      <th>gamma</th>\n",
              "      <td>0.107220</td>\n",
              "      <td>0.001432</td>\n",
              "      <td>1.045015e-01</td>\n",
              "      <td>0.110043</td>\n",
              "      <td>1.212429e-04</td>\n",
              "      <td>8.591160e-05</td>\n",
              "      <td>139.512689</td>\n",
              "      <td>230.060226</td>\n",
              "      <td>1.026978</td>\n",
              "    </tr>\n",
              "    <tr>\n",
              "      <th>mu</th>\n",
              "      <td>0.000050</td>\n",
              "      <td>0.000050</td>\n",
              "      <td>6.500000e-09</td>\n",
              "      <td>0.000141</td>\n",
              "      <td>2.040100e-06</td>\n",
              "      <td>1.443300e-06</td>\n",
              "      <td>725.222374</td>\n",
              "      <td>1131.399279</td>\n",
              "      <td>1.003835</td>\n",
              "    </tr>\n",
              "    <tr>\n",
              "      <th>sigma</th>\n",
              "      <td>23.328697</td>\n",
              "      <td>0.163170</td>\n",
              "      <td>2.303145e+01</td>\n",
              "      <td>23.639320</td>\n",
              "      <td>3.797597e-03</td>\n",
              "      <td>2.685731e-03</td>\n",
              "      <td>1848.231499</td>\n",
              "      <td>3504.042367</td>\n",
              "      <td>1.000780</td>\n",
              "    </tr>\n",
              "  </tbody>\n",
              "</table>\n",
              "</div>\n",
              "    <div class=\"colab-df-buttons\">\n",
              "\n",
              "  <div class=\"colab-df-container\">\n",
              "    <button class=\"colab-df-convert\" onclick=\"convertToInteractive('df-b6258190-81d1-4109-9b83-98bafa57e321')\"\n",
              "            title=\"Convert this dataframe to an interactive table.\"\n",
              "            style=\"display:none;\">\n",
              "\n",
              "  <svg xmlns=\"http://www.w3.org/2000/svg\" height=\"24px\" viewBox=\"0 -960 960 960\">\n",
              "    <path d=\"M120-120v-720h720v720H120Zm60-500h600v-160H180v160Zm220 220h160v-160H400v160Zm0 220h160v-160H400v160ZM180-400h160v-160H180v160Zm440 0h160v-160H620v160ZM180-180h160v-160H180v160Zm440 0h160v-160H620v160Z\"/>\n",
              "  </svg>\n",
              "    </button>\n",
              "\n",
              "  <style>\n",
              "    .colab-df-container {\n",
              "      display:flex;\n",
              "      gap: 12px;\n",
              "    }\n",
              "\n",
              "    .colab-df-convert {\n",
              "      background-color: #E8F0FE;\n",
              "      border: none;\n",
              "      border-radius: 50%;\n",
              "      cursor: pointer;\n",
              "      display: none;\n",
              "      fill: #1967D2;\n",
              "      height: 32px;\n",
              "      padding: 0 0 0 0;\n",
              "      width: 32px;\n",
              "    }\n",
              "\n",
              "    .colab-df-convert:hover {\n",
              "      background-color: #E2EBFA;\n",
              "      box-shadow: 0px 1px 2px rgba(60, 64, 67, 0.3), 0px 1px 3px 1px rgba(60, 64, 67, 0.15);\n",
              "      fill: #174EA6;\n",
              "    }\n",
              "\n",
              "    .colab-df-buttons div {\n",
              "      margin-bottom: 4px;\n",
              "    }\n",
              "\n",
              "    [theme=dark] .colab-df-convert {\n",
              "      background-color: #3B4455;\n",
              "      fill: #D2E3FC;\n",
              "    }\n",
              "\n",
              "    [theme=dark] .colab-df-convert:hover {\n",
              "      background-color: #434B5C;\n",
              "      box-shadow: 0px 1px 3px 1px rgba(0, 0, 0, 0.15);\n",
              "      filter: drop-shadow(0px 1px 2px rgba(0, 0, 0, 0.3));\n",
              "      fill: #FFFFFF;\n",
              "    }\n",
              "  </style>\n",
              "\n",
              "    <script>\n",
              "      const buttonEl =\n",
              "        document.querySelector('#df-b6258190-81d1-4109-9b83-98bafa57e321 button.colab-df-convert');\n",
              "      buttonEl.style.display =\n",
              "        google.colab.kernel.accessAllowed ? 'block' : 'none';\n",
              "\n",
              "      async function convertToInteractive(key) {\n",
              "        const element = document.querySelector('#df-b6258190-81d1-4109-9b83-98bafa57e321');\n",
              "        const dataTable =\n",
              "          await google.colab.kernel.invokeFunction('convertToInteractive',\n",
              "                                                    [key], {});\n",
              "        if (!dataTable) return;\n",
              "\n",
              "        const docLinkHtml = 'Like what you see? Visit the ' +\n",
              "          '<a target=\"_blank\" href=https://colab.research.google.com/notebooks/data_table.ipynb>data table notebook</a>'\n",
              "          + ' to learn more about interactive tables.';\n",
              "        element.innerHTML = '';\n",
              "        dataTable['output_type'] = 'display_data';\n",
              "        await google.colab.output.renderOutput(dataTable, element);\n",
              "        const docLink = document.createElement('div');\n",
              "        docLink.innerHTML = docLinkHtml;\n",
              "        element.appendChild(docLink);\n",
              "      }\n",
              "    </script>\n",
              "  </div>\n",
              "\n",
              "\n",
              "<div id=\"df-19933a53-7ede-4fb2-b40e-1dc214a04480\">\n",
              "  <button class=\"colab-df-quickchart\" onclick=\"quickchart('df-19933a53-7ede-4fb2-b40e-1dc214a04480')\"\n",
              "            title=\"Suggest charts\"\n",
              "            style=\"display:none;\">\n",
              "\n",
              "<svg xmlns=\"http://www.w3.org/2000/svg\" height=\"24px\"viewBox=\"0 0 24 24\"\n",
              "     width=\"24px\">\n",
              "    <g>\n",
              "        <path d=\"M19 3H5c-1.1 0-2 .9-2 2v14c0 1.1.9 2 2 2h14c1.1 0 2-.9 2-2V5c0-1.1-.9-2-2-2zM9 17H7v-7h2v7zm4 0h-2V7h2v10zm4 0h-2v-4h2v4z\"/>\n",
              "    </g>\n",
              "</svg>\n",
              "  </button>\n",
              "\n",
              "<style>\n",
              "  .colab-df-quickchart {\n",
              "      --bg-color: #E8F0FE;\n",
              "      --fill-color: #1967D2;\n",
              "      --hover-bg-color: #E2EBFA;\n",
              "      --hover-fill-color: #174EA6;\n",
              "      --disabled-fill-color: #AAA;\n",
              "      --disabled-bg-color: #DDD;\n",
              "  }\n",
              "\n",
              "  [theme=dark] .colab-df-quickchart {\n",
              "      --bg-color: #3B4455;\n",
              "      --fill-color: #D2E3FC;\n",
              "      --hover-bg-color: #434B5C;\n",
              "      --hover-fill-color: #FFFFFF;\n",
              "      --disabled-bg-color: #3B4455;\n",
              "      --disabled-fill-color: #666;\n",
              "  }\n",
              "\n",
              "  .colab-df-quickchart {\n",
              "    background-color: var(--bg-color);\n",
              "    border: none;\n",
              "    border-radius: 50%;\n",
              "    cursor: pointer;\n",
              "    display: none;\n",
              "    fill: var(--fill-color);\n",
              "    height: 32px;\n",
              "    padding: 0;\n",
              "    width: 32px;\n",
              "  }\n",
              "\n",
              "  .colab-df-quickchart:hover {\n",
              "    background-color: var(--hover-bg-color);\n",
              "    box-shadow: 0 1px 2px rgba(60, 64, 67, 0.3), 0 1px 3px 1px rgba(60, 64, 67, 0.15);\n",
              "    fill: var(--button-hover-fill-color);\n",
              "  }\n",
              "\n",
              "  .colab-df-quickchart-complete:disabled,\n",
              "  .colab-df-quickchart-complete:disabled:hover {\n",
              "    background-color: var(--disabled-bg-color);\n",
              "    fill: var(--disabled-fill-color);\n",
              "    box-shadow: none;\n",
              "  }\n",
              "\n",
              "  .colab-df-spinner {\n",
              "    border: 2px solid var(--fill-color);\n",
              "    border-color: transparent;\n",
              "    border-bottom-color: var(--fill-color);\n",
              "    animation:\n",
              "      spin 1s steps(1) infinite;\n",
              "  }\n",
              "\n",
              "  @keyframes spin {\n",
              "    0% {\n",
              "      border-color: transparent;\n",
              "      border-bottom-color: var(--fill-color);\n",
              "      border-left-color: var(--fill-color);\n",
              "    }\n",
              "    20% {\n",
              "      border-color: transparent;\n",
              "      border-left-color: var(--fill-color);\n",
              "      border-top-color: var(--fill-color);\n",
              "    }\n",
              "    30% {\n",
              "      border-color: transparent;\n",
              "      border-left-color: var(--fill-color);\n",
              "      border-top-color: var(--fill-color);\n",
              "      border-right-color: var(--fill-color);\n",
              "    }\n",
              "    40% {\n",
              "      border-color: transparent;\n",
              "      border-right-color: var(--fill-color);\n",
              "      border-top-color: var(--fill-color);\n",
              "    }\n",
              "    60% {\n",
              "      border-color: transparent;\n",
              "      border-right-color: var(--fill-color);\n",
              "    }\n",
              "    80% {\n",
              "      border-color: transparent;\n",
              "      border-right-color: var(--fill-color);\n",
              "      border-bottom-color: var(--fill-color);\n",
              "    }\n",
              "    90% {\n",
              "      border-color: transparent;\n",
              "      border-bottom-color: var(--fill-color);\n",
              "    }\n",
              "  }\n",
              "</style>\n",
              "\n",
              "  <script>\n",
              "    async function quickchart(key) {\n",
              "      const quickchartButtonEl =\n",
              "        document.querySelector('#' + key + ' button');\n",
              "      quickchartButtonEl.disabled = true;  // To prevent multiple clicks.\n",
              "      quickchartButtonEl.classList.add('colab-df-spinner');\n",
              "      try {\n",
              "        const charts = await google.colab.kernel.invokeFunction(\n",
              "            'suggestCharts', [key], {});\n",
              "      } catch (error) {\n",
              "        console.error('Error during call to suggestCharts:', error);\n",
              "      }\n",
              "      quickchartButtonEl.classList.remove('colab-df-spinner');\n",
              "      quickchartButtonEl.classList.add('colab-df-quickchart-complete');\n",
              "    }\n",
              "    (() => {\n",
              "      let quickchartButtonEl =\n",
              "        document.querySelector('#df-19933a53-7ede-4fb2-b40e-1dc214a04480 button');\n",
              "      quickchartButtonEl.style.display =\n",
              "        google.colab.kernel.accessAllowed ? 'block' : 'none';\n",
              "    })();\n",
              "  </script>\n",
              "</div>\n",
              "\n",
              "    </div>\n",
              "  </div>\n"
            ],
            "application/vnd.google.colaboratory.intrinsic+json": {
              "type": "dataframe",
              "summary": "{\n  \"name\": \"az\",\n  \"rows\": 6,\n  \"fields\": [\n    {\n      \"column\": \"mean\",\n      \"properties\": {\n        \"dtype\": \"number\",\n        \"std\": 9.511838391530985,\n        \"min\": 2.7048e-06,\n        \"max\": 23.3286965003,\n        \"num_unique_values\": 6,\n        \"samples\": [\n          0.0414286924,\n          0.000158804,\n          23.3286965003\n        ],\n        \"semantic_type\": \"\",\n        \"description\": \"\"\n      }\n    },\n    {\n      \"column\": \"sd\",\n      \"properties\": {\n        \"dtype\": \"number\",\n        \"std\": 0.06640353392135546,\n        \"min\": 2.6059e-06,\n        \"max\": 0.163170403,\n        \"num_unique_values\": 6,\n        \"samples\": [\n          0.0011251181,\n          4.7171e-06,\n          0.163170403\n        ],\n        \"semantic_type\": \"\",\n        \"description\": \"\"\n      }\n    },\n    {\n      \"column\": \"hdi_3%\",\n      \"properties\": {\n        \"dtype\": \"number\",\n        \"std\": 9.390880063578415,\n        \"min\": 2.1e-09,\n        \"max\": 23.031454264,\n        \"num_unique_values\": 6,\n        \"samples\": [\n          0.0393830315,\n          0.0001501854,\n          23.031454264\n        ],\n        \"semantic_type\": \"\",\n        \"description\": \"\"\n      }\n    },\n    {\n      \"column\": \"hdi_97%\",\n      \"properties\": {\n        \"dtype\": \"number\",\n        \"std\": 9.638238770595207,\n        \"min\": 7.3832e-06,\n        \"max\": 23.639320404,\n        \"num_unique_values\": 6,\n        \"samples\": [\n          0.0435862266,\n          0.0001679068,\n          23.639320404\n        ],\n        \"semantic_type\": \"\",\n        \"description\": \"\"\n      }\n    },\n    {\n      \"column\": \"mcse_mean\",\n      \"properties\": {\n        \"dtype\": \"number\",\n        \"std\": 0.001529760225917787,\n        \"min\": 3.93e-08,\n        \"max\": 0.0037975969,\n        \"num_unique_values\": 6,\n        \"samples\": [\n          0.0001451983,\n          8.453e-07,\n          0.0037975969\n        ],\n        \"semantic_type\": \"\",\n        \"description\": \"\"\n      }\n    },\n    {\n      \"column\": \"mcse_sd\",\n      \"properties\": {\n        \"dtype\": \"number\",\n        \"std\": 0.0010818280654050453,\n        \"min\": 2.78e-08,\n        \"max\": 0.0026857309,\n        \"num_unique_values\": 6,\n        \"samples\": [\n          0.0001031736,\n          6.056e-07,\n          0.0026857309\n        ],\n        \"semantic_type\": \"\",\n        \"description\": \"\"\n      }\n    },\n    {\n      \"column\": \"ess_bulk\",\n      \"properties\": {\n        \"dtype\": \"number\",\n        \"std\": 1540.301149414341,\n        \"min\": 30.9491813305,\n        \"max\": 3931.8421830814,\n        \"num_unique_values\": 6,\n        \"samples\": [\n          60.4397721866,\n          30.9491813305,\n          1848.2314992352\n        ],\n        \"semantic_type\": \"\",\n        \"description\": \"\"\n      }\n    },\n    {\n      \"column\": \"ess_tail\",\n      \"properties\": {\n        \"dtype\": \"number\",\n        \"std\": 1609.427042783793,\n        \"min\": 115.3365269135,\n        \"max\": 3504.04236727,\n        \"num_unique_values\": 6,\n        \"samples\": [\n          153.8090106204,\n          115.3365269135,\n          3504.04236727\n        ],\n        \"semantic_type\": \"\",\n        \"description\": \"\"\n      }\n    },\n    {\n      \"column\": \"r_hat\",\n      \"properties\": {\n        \"dtype\": \"number\",\n        \"std\": 0.02389556581370545,\n        \"min\": 1.0007592149,\n        \"max\": 1.0583286132,\n        \"num_unique_values\": 6,\n        \"samples\": [\n          1.0387375157,\n          1.0583286132,\n          1.0007803883\n        ],\n        \"semantic_type\": \"\",\n        \"description\": \"\"\n      }\n    }\n  ]\n}"
            }
          },
          "metadata": {},
          "execution_count": 29
        }
      ]
    },
    {
      "cell_type": "code",
      "source": [
        "az.plot_trace(trace, kind=\"rank_bars\")\n",
        "plt.suptitle(f\"Trace Plot {sampler}\");"
      ],
      "metadata": {
        "id": "v00uU5GjDeuf"
      },
      "execution_count": null,
      "outputs": []
    },
    {
      "cell_type": "code",
      "source": [
        "num_samples = 25\n",
        "node = 2\n",
        "trace_df = az.extract(trace_nuts, num_samples=num_samples).to_dataframe()\n",
        "plt.figure(figsize=(10,3));\n",
        "for row_idx in range(num_samples):\n",
        "  cols = [\"alpha\", \"beta\", \"gamma\", \"mu\", \"eps\"]\n",
        "  row = trace_df.iloc[row_idx,:][cols].values\n",
        "  theta = row;\n",
        "  tm_SI = odeint(func=rhs, y0=init, t=time, args=(theta,))\n",
        "  ls_I = tm_SI[:,n:2*n];  ls_I =  ls_I[:,node-1];\n",
        "  plt.plot(time, ls_I,lw=1,alpha=0.2)\n",
        "  plt.scatter(time, Data[:,node-1])"
      ],
      "metadata": {
        "colab": {
          "base_uri": "https://localhost:8080/",
          "height": 291
        },
        "id": "_x4GKDrrl6Fu",
        "outputId": "cacf3df0-549b-49e3-88ab-331ad04c8e3a"
      },
      "execution_count": null,
      "outputs": [
        {
          "output_type": "display_data",
          "data": {
            "text/plain": [
              "<Figure size 1000x300 with 1 Axes>"
            ],
            "image/png": "[encoded data removed]"
          },
          "metadata": {}
        }
      ]
    },
    {
      "cell_type": "code",
      "source": [
        "num_samples = 25\n",
        "node = 13\n",
        "trace_df = az.extract(trace_nuts, num_samples=num_samples).to_dataframe()\n",
        "plt.figure(figsize=(10,3));\n",
        "for row_idx in range(num_samples):\n",
        "  cols = [\"alpha\", \"beta\", \"gamma\", \"mu\", \"eps\"]\n",
        "  row = trace_df.iloc[row_idx,:][cols].values\n",
        "  theta = row;\n",
        "  tm_SI = odeint(func=rhs, y0=init, t=time, args=(theta,))\n",
        "  ls_I = tm_SI[:,n:2*n];  ls_I =  ls_I[:,node-1];\n",
        "  plt.plot(time, ls_I,lw=1,alpha=0.2)\n",
        "  plt.scatter(time, Data[:,node-1])"
      ],
      "metadata": {
        "colab": {
          "base_uri": "https://localhost:8080/",
          "height": 291
        },
        "id": "Gyb_kgmWl8qe",
        "outputId": "c12b5383-8b97-4c32-dc55-f2256d1d625d"
      },
      "execution_count": null,
      "outputs": [
        {
          "output_type": "display_data",
          "data": {
            "text/plain": [
              "<Figure size 1000x300 with 1 Axes>"
            ],
            "image/png": "[encoded data removed]"
          },
          "metadata": {}
        }
      ]
    },
    {
      "cell_type": "code",
      "source": [
        "est_theta = np.array([0.041429, 0.000159, 0.107220, 0.000050, 0.000003])\n",
        "est_S_I = odeint(func=rhs, y0=init, t=time, args=(theta,));\n",
        "Idata = est_S_I[:,n:2*n]\n",
        "Idata.shape\n",
        "dd = pd.DataFrame(Idata)\n",
        "dd.shape\n",
        "dd # Networked SIR model predicted Infected curve"
      ],
      "metadata": {
        "id": "Ne9az39j76G5"
      },
      "execution_count": null,
      "outputs": []
    },
    {
      "cell_type": "markdown",
      "source": [
        "# EGDL frameworks"
      ],
      "metadata": {
        "id": "amaDZupFWm-B"
      }
    },
    {
      "cell_type": "code",
      "source": [
        "!pip install darts\n",
        "import darts\n",
        "from darts import TimeSeries\n",
        "import numpy as np\n",
        "from google.colab import files\n",
        "import io\n",
        "import matplotlib.pyplot as plt\n",
        "from darts.models import NHiTSModel, TCNModel, NBEATSModel, TransformerModel\n",
        "from darts.models import RNNModel\n",
        "from darts import TimeSeries\n",
        "from darts.utils.likelihood_models import GaussianLikelihood"
      ],
      "metadata": {
        "id": "Z3aOY2EqX92o"
      },
      "execution_count": null,
      "outputs": []
    },
    {
      "cell_type": "markdown",
      "source": [
        "## EGDL Parallel Approach"
      ],
      "metadata": {
        "id": "teD4I8sVXdzO"
      }
    },
    {
      "cell_type": "code",
      "execution_count": null,
      "metadata": {
        "id": "aSm_b6wR_CFo"
      },
      "outputs": [],
      "source": [
        "# Load TB incidence data\n",
        "data = pd.read_csv(\"TB incidence data path\")\n",
        "data.head()"
      ]
    },
    {
      "cell_type": "code",
      "execution_count": null,
      "metadata": {
        "colab": {
          "base_uri": "https://localhost:8080/"
        },
        "outputId": "ef4f78b3-48fa-43c7-bcad-2b1eeb45fcd5",
        "id": "zrLaUG4A_CFo"
      },
      "outputs": [
        {
          "output_type": "execute_result",
          "data": {
            "text/plain": [
              "(9, 47)"
            ]
          },
          "metadata": {},
          "execution_count": 29
        }
      ],
      "source": [
        "hor = 12 # Specify the forecast horizon\n",
        "N = data.shape[0] - hor\n",
        "train = data[:N]\n",
        "test = data[N:]\n",
        "test.shape\n",
        "train_exo = dd[:N]"
      ]
    },
    {
      "cell_type": "code",
      "source": [
        "cases = TimeSeries.from_dataframe(train)"
      ],
      "metadata": {
        "id": "vawA-TMt_CFo"
      },
      "execution_count": null,
      "outputs": []
    },
    {
      "cell_type": "code",
      "source": [
        "cases = TimeSeries.from_dataframe(train)\n",
        "cases_exo = TimeSeries.from_dataframe(train_exo)"
      ],
      "metadata": {
        "id": "hPaw7PUKq3w1"
      },
      "execution_count": null,
      "outputs": []
    },
    {
      "cell_type": "code",
      "source": [
        "##################### EGP-NBeats ##########################\n",
        "model_name = 'EGP-NBeats'\n",
        "model = NBEATSModel(input_chunk_length=24, output_chunk_length=12, n_epochs = 50, random_state=0)\n",
        "model.fit(cases, past_covariates=cases_exo)\n",
        "F1 = model.predict(hor)"
      ],
      "metadata": {
        "id": "BEFqzAN8q3w1"
      },
      "execution_count": null,
      "outputs": []
    },
    {
      "cell_type": "code",
      "source": [
        "##################### EGP-Transformers #######################\n",
        "model_name = \"EGP-Transformers\"\n",
        "cases = TimeSeries.from_dataframe(train)\n",
        "model = TransformerModel(input_chunk_length=24, output_chunk_length=12, n_epochs = 50, random_state=0)\n",
        "model.fit(cases, past_covariates=cases_exo)\n",
        "F1 = model.predict(hor)"
      ],
      "metadata": {
        "id": "vqisNyc4q3w1"
      },
      "execution_count": null,
      "outputs": []
    },
    {
      "cell_type": "code",
      "source": [
        "##################### EGP-TCN #######################\n",
        "model_name = \"EGP-TCN\"\n",
        "cases = TimeSeries.from_dataframe(train)\n",
        "model = TCNModel(input_chunk_length=24, output_chunk_length=12, n_epochs = 50, random_state=0)\n",
        "model.fit(cases, past_covariates=cases_exo)\n",
        "F1 = model.predict(hor)"
      ],
      "metadata": {
        "id": "CtGjJlJeq3w1"
      },
      "execution_count": null,
      "outputs": []
    },
    {
      "cell_type": "code",
      "source": [
        "##################### EGP-NHiTS #######################\n",
        "model_name = \"EGP-NHiTS\"\n",
        "cases = TimeSeries.from_dataframe(train)\n",
        "model = NHiTSModel(input_chunk_length=24, output_chunk_length=12, n_epochs = 50, random_state=0)\n",
        "model.fit(cases, past_covariates=cases_exo)\n",
        "F1 = model.predict(hor)"
      ],
      "metadata": {
        "id": "LLcCZJJjq3w2"
      },
      "execution_count": null,
      "outputs": []
    },
    {
      "cell_type": "code",
      "source": [],
      "metadata": {
        "id": "N8HUVLDIq3w2"
      },
      "execution_count": null,
      "outputs": []
    },
    {
      "cell_type": "markdown",
      "source": [
        "## EGDL-Series Framework"
      ],
      "metadata": {
        "id": "SxcmpSjfY2hW"
      }
    },
    {
      "cell_type": "code",
      "execution_count": null,
      "metadata": {
        "id": "YLXnQlNXY9xp"
      },
      "outputs": [],
      "source": [
        "# Load TB incidence data\n",
        "data = pd.read_csv(\"TB incidence data path\")\n",
        "data.head()"
      ]
    },
    {
      "cell_type": "code",
      "execution_count": null,
      "metadata": {
        "id": "7lXeWBa9Y9xp"
      },
      "outputs": [],
      "source": [
        "hor = 12 # Specify the forecast horizon\n",
        "N = data.shape[0] - hor\n",
        "train = data[:N]\n",
        "test = data[N:]\n",
        "test.shape\n",
        "train_exo = dd[:N]\n",
        "test_exo = dd[N:]"
      ]
    },
    {
      "cell_type": "code",
      "source": [
        "train_exo.columns = train.columns"
      ],
      "metadata": {
        "id": "w73K7J59s85Q"
      },
      "execution_count": null,
      "outputs": []
    },
    {
      "cell_type": "code",
      "source": [
        "error_exo = train - train_exo"
      ],
      "metadata": {
        "id": "MYyB0WC7s85Q"
      },
      "execution_count": null,
      "outputs": []
    },
    {
      "cell_type": "code",
      "source": [
        "cases_exo = TimeSeries.from_dataframe(error_exo)"
      ],
      "metadata": {
        "id": "Plfc4VcMs85R"
      },
      "execution_count": null,
      "outputs": []
    },
    {
      "cell_type": "code",
      "source": [
        "##################### EGS-NBEATS##########################\n",
        "model_name = \"EGS-NBEATS\"\n",
        "model = NBEATSModel(input_chunk_length=24, output_chunk_length=12, n_epochs = 50, random_state=0)\n",
        "model.fit(cases_exo)\n",
        "F1 = model.predict(hor)\n",
        "df=F1.pd_dataframe()\n",
        "test_exo.columns = train.columns\n",
        "df1 = df+test_exo"
      ],
      "metadata": {
        "id": "kty8lEjrs85R"
      },
      "execution_count": null,
      "outputs": []
    },
    {
      "cell_type": "code",
      "source": [
        "##################### EGS-Transformers #######################\n",
        "model_name = \"EGS-Transformers\"\n",
        "model = TransformerModel(input_chunk_length=24, output_chunk_length=12, n_epochs = 50, random_state=0)\n",
        "model.fit(cases_exo)\n",
        "F1 = model.predict(hor)\n",
        "df=F1.pd_dataframe()\n",
        "test_exo.columns = train.columns\n",
        "df1 = df+test_exo"
      ],
      "metadata": {
        "id": "oHDQJuDrs85R"
      },
      "execution_count": null,
      "outputs": []
    },
    {
      "cell_type": "code",
      "source": [
        "##################### EGS-TCN #######################\n",
        "model_name = \"EGS-TCN\"\n",
        "model = TCNModel(input_chunk_length=24, output_chunk_length=12, n_epochs = 50, random_state=0)\n",
        "model.fit(cases_exo)\n",
        "F1 = model.predict(hor)\n",
        "df=F1.pd_dataframe()\n",
        "test_exo.columns = train.columns\n",
        "df1 = df+test_exo"
      ],
      "metadata": {
        "id": "y-g-R6dTs85R"
      },
      "execution_count": null,
      "outputs": []
    },
    {
      "cell_type": "code",
      "source": [
        "##################### EGS-NHiTS #######################\n",
        "model_name = \"EGS-NHiTS\"\n",
        "model = NHiTSModel(input_chunk_length=24, output_chunk_length=12, n_epochs = 50, random_state=0)\n",
        "model.fit(cases_exo)\n",
        "F1 = model.predict(hor)\n",
        "df=F1.pd_dataframe()\n",
        "test_exo.columns = train.columns\n",
        "df1 = df+test_exo"
      ],
      "metadata": {
        "id": "oeNsJS3vs85R"
      },
      "execution_count": null,
      "outputs": []
    }
  ]
}